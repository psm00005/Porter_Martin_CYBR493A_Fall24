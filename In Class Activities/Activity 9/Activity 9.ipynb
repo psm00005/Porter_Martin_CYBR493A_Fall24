{
 "cells": [
  {
   "cell_type": "code",
   "execution_count": 6,
   "id": "18ba1403",
   "metadata": {},
   "outputs": [],
   "source": [
    "\"\"\"\n",
    "Web scrapping in Python\n",
    "This is an example of scrapping a web page in Python using requests and lxml\n",
    "\n",
    "\"\"\"\n",
    "import requests\n",
    "from lxml import html\n",
    "\n",
    "\n",
    "def get_web_tree(link):\n",
    "    \"\"\"\n",
    "    This method gets a web page from the specified url, and returns a tree of all elements in the page\n",
    "    :param link: The webpage to access and process\n",
    "    :return: The tree element created from the page\n",
    "    \"\"\"\n",
    "    # Welcome message\n",
    "    #print('Obtaining the page: ', str(link))\n",
    "    # get the page\n",
    "    page = requests.get(link)\n",
    "    # get the elements from the page\n",
    "    page_tree = html.fromstring(page.content)\n",
    "    # return the tree of the web page\n",
    "    return page_tree\n"
   ]
  },
  {
   "cell_type": "code",
   "execution_count": 7,
   "id": "c46f908a",
   "metadata": {},
   "outputs": [],
   "source": [
    "url = \"https://bugzilla.redhat.com/buglist.cgi?bug_status=__closed__&bug_status=CLOSED&classification=Fedora&limit=0&order=priority%2Cbug_severity&product=Fedora&query_format=advanced&resolution=WONTFIX&resolution=DEFERRED&resolution=CURRENTRELEASE&resolution=ERRATA&resolution=NEXTRELEASE&resolution=RAWHIDE&resolution=UPSTREAM\""
   ]
  },
  {
   "cell_type": "code",
   "execution_count": 8,
   "id": "ce4aebbc",
   "metadata": {},
   "outputs": [
    {
     "name": "stdout",
     "output_type": "stream",
     "text": [
      "<bound method _Element.xpath of <Element html at 0x15db5f3b7c0>>\n"
     ]
    }
   ],
   "source": [
    "main_tree = get_web_tree(url)\n",
    "print(main_tree.xpath)"
   ]
  },
  {
   "cell_type": "code",
   "execution_count": 10,
   "id": "1a2dcba0",
   "metadata": {},
   "outputs": [
    {
     "name": "stdout",
     "output_type": "stream",
     "text": [
      "['Tue Nov 12 2024 13:51:51 UTC', '\\n  ']\n"
     ]
    }
   ],
   "source": [
    "data = main_tree.xpath('//*[@id=\"bugzilla-body\"]/div[1]/span/text()')\n",
    "print(data)"
   ]
  },
  {
   "cell_type": "code",
   "execution_count": 18,
   "id": "9b0d0f9e",
   "metadata": {},
   "outputs": [
    {
     "name": "stdout",
     "output_type": "stream",
     "text": [
      "['Product            ', '\\n  ']\n"
     ]
    }
   ],
   "source": [
    "data = main_tree.xpath('//*[@id=\"bz_buglist\"]/thead/tr/th[2]/text()')\n",
    "print(data)"
   ]
  },
  {
   "cell_type": "code",
   "execution_count": 20,
   "id": "5554291c",
   "metadata": {},
   "outputs": [
    {
     "name": "stdout",
     "output_type": "stream",
     "text": [
      "['Assignee            ', '\\n  ']\n"
     ]
    }
   ],
   "source": [
    "data = main_tree.xpath('//*[@id=\"bz_buglist\"]/thead/tr/th[4]/text()')\n",
    "print(data)"
   ]
  },
  {
   "cell_type": "code",
   "execution_count": 22,
   "id": "4d1938ad",
   "metadata": {},
   "outputs": [
    {
     "name": "stdout",
     "output_type": "stream",
     "text": [
      "['Component            ', '\\n  ']\n"
     ]
    }
   ],
   "source": [
    "data = main_tree.xpath('//*[@id=\"bz_buglist\"]/thead/tr/th[3]/text()')\n",
    "print(data)"
   ]
  },
  {
   "cell_type": "code",
   "execution_count": null,
   "id": "a4d4245f",
   "metadata": {},
   "outputs": [],
   "source": []
  }
 ],
 "metadata": {
  "kernelspec": {
   "display_name": "Python [conda env:pythonForCyber] *",
   "language": "python",
   "name": "conda-env-pythonForCyber-py"
  },
  "language_info": {
   "codemirror_mode": {
    "name": "ipython",
    "version": 3
   },
   "file_extension": ".py",
   "mimetype": "text/x-python",
   "name": "python",
   "nbconvert_exporter": "python",
   "pygments_lexer": "ipython3",
   "version": "3.9.19"
  }
 },
 "nbformat": 4,
 "nbformat_minor": 5
}
