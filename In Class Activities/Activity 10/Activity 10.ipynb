{
 "cells": [
  {
   "cell_type": "code",
   "execution_count": 3,
   "id": "d9610874",
   "metadata": {},
   "outputs": [],
   "source": [
    "\"\"\"\n",
    "Web scrapping in Python\n",
    "This is an example of scrapping a web page in Python using requests and lxml\n",
    "\n",
    "\"\"\"\n",
    "import requests\n",
    "from lxml import html\n",
    "\n",
    "\n",
    "def get_web_tree(link):\n",
    "    \"\"\"\n",
    "    This method gets a web page from the specified url, and returns a tree of all elements in the page\n",
    "    :param link: The webpage to access and process\n",
    "    :return: The tree element created from the page\n",
    "    \"\"\"\n",
    "    # Welcome message\n",
    "    #print('Obtaining the page: ', str(link))\n",
    "    # get the page\n",
    "    page = requests.get(link)\n",
    "    # get the elements from the page\n",
    "    page_tree = html.fromstring(page.content)\n",
    "    # return the tree of the web page\n",
    "    return page_tree\n"
   ]
  },
  {
   "cell_type": "code",
   "execution_count": 4,
   "id": "5d4d4175",
   "metadata": {},
   "outputs": [],
   "source": [
    "url = \"https://bugs.launchpad.net/ubuntu/+bugs?field.searchtext=&field.status%3Alist=EXPIRED&field.status%3Alist=CONFIRMED&field.status%3Alist=TRIAGED&field.status%3Alist=INPROGRESS&field.status%3Alist=FIXCOMMITTED&field.status%3Alist=FIXRELEASED&field.importance%3Alist=UNKNOWN&field.importance%3Alist=UNDECIDED&field.importance%3Alist=CRITICAL&field.importance%3Alist=HIGH&field.importance%3Alist=MEDIUM&field.importance%3Alist=LOW&field.importance%3Alist=WISHLIST&field.information_type%3Alist=PUBLIC&field.information_type%3Alist=PUBLICSECURITY&field.information_type%3Alist=PRIVATESECURITY&field.information_type%3Alist=USERDATA&assignee_option=any&field.assignee=&field.bug_reporter=&field.bug_commenter=&field.subscriber=&field.structural_subscriber=&field.component-empty-marker=1&field.tag=&field.tags_combinator=ANY&field.status_upstream-empty-marker=1&field.has_cve.used=&field.omit_dupes.used=&field.omit_dupes=on&field.affects_me.used=&field.has_no_package.used=&field.has_patch.used=&field.has_branches.used=&field.has_branches=on&field.has_no_branches.used=&field.has_no_branches=on&field.has_blueprints.used=&field.has_blueprints=on&field.has_no_blueprints.used=&field.has_no_blueprints=on&search=Search&orderby=-importance&memo=75&start=0\""
   ]
  },
  {
   "cell_type": "code",
   "execution_count": 5,
   "id": "69a8354b",
   "metadata": {},
   "outputs": [
    {
     "name": "stdout",
     "output_type": "stream",
     "text": [
      "<bound method _Element.xpath of <Element html at 0x13d83f4b130>>\n"
     ]
    }
   ],
   "source": [
    "main_tree = get_web_tree(url)\n",
    "print(main_tree.xpath)"
   ]
  },
  {
   "cell_type": "code",
   "execution_count": 6,
   "id": "ab0fd8fd",
   "metadata": {},
   "outputs": [],
   "source": [
    "BugInfos = main_tree.xpath('//*[@class=\"buglisting-row\"]')"
   ]
  },
  {
   "cell_type": "code",
   "execution_count": 7,
   "id": "0707eee9",
   "metadata": {},
   "outputs": [
    {
     "name": "stdout",
     "output_type": "stream",
     "text": [
      "#10714 Fix Released 4 Critical  Live cd doesn't boot\n",
      "#10742 Fix Released 6 Critical  Fails to build from source\n",
      "#11037 Fix Released 20 Critical  cupsys upgrade error (cupsys won't stop)\n",
      "#11147 Fix Released 6 Critical  gnome-menus conflicts with kdelibs-data in /etc/xdg/menus/applications.menu\n",
      "#11193 Fix Released 10 Critical  [warty] Firefox Window Injection Vulnerability\n",
      "#11283 Fix Released 58 Critical  gnome-panel / nautilus hang due to gnome-vfs-daemon\n",
      "#11286 Fix Released 20 Critical  6.8.1-1ubuntu7 is broken\n",
      "#11438 Fix Released 8 Critical  can't configure python2.4-minimal without python2.4 installed\n",
      "#11550 Fix Released 14 Critical  Python 2.4 breaks Bittorrent\n",
      "#11574 Fix Released 18 Critical  Network Places menu has trouble opening sftp in nautilus\n",
      "#11623 Fix Released 4 Critical  Ubuntu-specific changes lost in merge\n",
      "#11829 Fix Released 6 Critical  Several modules unloadable in 2.6.10-4\n",
      "#11855 Fix Released 24 Critical  gtksourceview-sharp should no provide nemerle.lang\n",
      "#11885 Fix Released 4 Critical  reportbug has python2.3 hardcoded\n",
      "#11897 Fix Released 8 Critical  Gnome-panel seems to have a mismatched dependancy (AMD64)\n",
      "#11904 Fix Released 8 Critical  vgchange segfaults with 2.6.10-2\n",
      "#11974 Fix Released 12 Critical  vbestate save causes hang on some systems\n",
      "#12114 Fix Released 4 Critical  install fails on AMD64\n",
      "#12209 Fix Released 10 Critical  Metacity titlebar odity\n",
      "#12239 Fix Released 4 Critical  Ubuntu changes lost in merge?\n",
      "#12254 Fix Released 20 Critical  Evolution-data-server crashes with floating point exception\n",
      "#12347 Fix Released 6 Critical  HOARY: gnopernicus: fails to start - lib problems\n",
      "#12386 Fix Released 22 Critical  grub installation hangs at 33%\n",
      "#12459 Fix Released 10 Critical  GRUB segfaults on amd64\n",
      "#12467 Fix Released 10 Critical  Gnome Users and Groups: Changing a user's UID breaks the account\n",
      "#12560 Fix Released 8 Critical  after upgrading to hoary on ibook G3, screen is in quarters\n",
      "#12599 Fix Released 20 Critical  Large number of udev processes spawned\n",
      "#12683 Fix Released 20 Critical  trying to overwrite `/usr/share/icons/hicolor/48x48/apps/gnome-run.png', which is also in package gnome-panel-data\n",
      "#12721 Fix Released 8 Critical  python2.4-minimal must not be essential\n",
      "#12753 Fix Released 6 Critical  /usr/bin/twistd fails to run with \"ImportError: No module named profile\"\n",
      "#12939 Fix Released 22 Critical  polypaudio crasher on powerpc\n",
      "#12940 Fix Released 6 Critical  Kernel Panic with new kernel-2.6.10-3 when logging in\n",
      "#12961 Fix Released 4 Critical  NIC detection error in installer - ubuntu-sparc\n",
      "#12972 Fix Released 10 Critical  Kernel update missing corresponding linux-restricted-modules update\n",
      "#12977 Fix Released 6 Critical  Default kernel parameters missing on live CD\n",
      "#13036 Fix Released 8 Critical  Hoary Install not recognized the SCSI-Harddisk to install onto\n",
      "#13404 Fix Released 12 Critical  Language packs broken, due to \"dependency cycle\"\n",
      "#13458 Fix Released 4 Critical  emacs21: FTBFS: timestamp skew issues.\n",
      "#13499 Fix Released 14 Critical  Improper boundary checking -> SIGSEGV\n",
      "#13522 Fix Released 8 Critical  i810 from HEAD is unusable\n",
      "#13645 Fix Released 8 Critical  Kmail segfaults\n",
      "#13753 Fix Released 14 Critical  language-pack upgrades are fragile\n",
      "#13830 Fix Released 24 Critical  ABI compatibility changed in 2.6.10-4-26\n",
      "#13888 Fix Released 4 Critical  db3 sets LD_ASSUME_KERNEL on amd64\n",
      "#14069 Fix Released 6 Critical  Installer asks for time zone after copy of packages to hard drive\n",
      "#14160 Fix Released 8 Critical  fontconfig error update\n",
      "#14176 Fix Released 36 Critical  libc does not do per-domain result caching\n",
      "#14186 Fix Released 4 Critical  FTBFS: can't find -lgvgd\n",
      "#14190 Fix Released 4 Critical  Fails to insatll - debconf errors\n",
      "#14223 Fix Released 8 Critical  FTBFS: g++ errors\n",
      "#14224 Fix Released 4 Critical  FTBFS: LinuxThreads not found\n",
      "#14226 Fix Released 4 Critical  FTBFS: Undefined reference.\n",
      "#14227 Fix Released 8 Critical  FTBFS: patch fails.\n",
      "#14229 Fix Released 8 Critical  FTBFS: conflicting build-deps\n",
      "#14235 Fix Released 14 Critical  Java VM locking on highly multithreaded Java apps\n",
      "#14252 Fix Released 6 Critical  FTBFS: can't find libktnef.la\n",
      "#14271 Fix Released 8 Critical  gnome-vfs-daemon segfault\n",
      "#14274 Fix Released 8 Critical  FTBFS: segv in ld\n",
      "#14277 Fix Released 12 Critical  Hang while loading snd-nm256 module\n",
      "#14283 Fix Released 6 Critical  klogd stops logging after some time\n",
      "#14355 Fix Released 24 Critical  libapache2-mod-php4 breaks Squirrelmail and Gallery\n",
      "#14436 Fix Released 4 Critical  FTBFS: missing headers\n",
      "#14536 Fix Released 8 Critical  can't log in after installation because of wrong keymap\n",
      "#14537 Fix Released 6 Critical  ubuntu install leaves me unable to boot my fedora core 3 installation\n",
      "#14815 Fix Released 4 Critical  FTBFS: broken build-depends\n",
      "#14816 Fix Released 4 Critical  FTBFS: autobmake versionitis\n",
      "#14832 Fix Released 4 Critical  Warty->Hoary upgrade failure on amd64 due to file conflict\n",
      "#14889 Fix Released 4 Critical  FTBFS: bad patch\n",
      "#14909 Fix Released 6 Critical  Processor bug causes p4-clockmod to shut Pentium 4 laptop down\n",
      "#15001 Fix Released 74 Critical  Administrator mode not working\n",
      "#15011 Fix Released 6 Critical  should conflict with xfree86-driver-synaptics?\n",
      "#16038 Fix Released 10 Critical  Installer fails to write grub to mbr?\n",
      "#16231 Fix Released 30 Critical  Code execution through javascript: favicons\n",
      "#16232 Fix Released 8 Critical  Arbitrary code execution from Firefox sidebar panel II\n",
      "#16233 Fix Released 8 Critical  Privilege escalation via DOM property overrides\n"
     ]
    }
   ],
   "source": [
    "for bug in BugInfos:\n",
    "    bugImportance = bug.xpath(\".//div['buglisting-col1']//text()\")\n",
    "    #section[.//h1[@id='hi']]\n",
    "    print(bugImportance[9].strip(), bugImportance[3].strip(), bugImportance[18].strip(), bugImportance[1].strip(), bugImportance[16].strip(), bugImportance[11].strip())"
   ]
  },
  {
   "cell_type": "code",
   "execution_count": null,
   "id": "ff400490",
   "metadata": {},
   "outputs": [],
   "source": []
  }
 ],
 "metadata": {
  "kernelspec": {
   "display_name": "Python [conda env:pythonForCyber] *",
   "language": "python",
   "name": "conda-env-pythonForCyber-py"
  },
  "language_info": {
   "codemirror_mode": {
    "name": "ipython",
    "version": 3
   },
   "file_extension": ".py",
   "mimetype": "text/x-python",
   "name": "python",
   "nbconvert_exporter": "python",
   "pygments_lexer": "ipython3",
   "version": "3.9.19"
  }
 },
 "nbformat": 4,
 "nbformat_minor": 5
}
