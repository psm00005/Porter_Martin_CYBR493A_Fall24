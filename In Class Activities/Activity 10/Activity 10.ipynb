{
 "cells": [
  {
   "cell_type": "code",
   "execution_count": 7,
   "id": "f11db359",
   "metadata": {},
   "outputs": [],
   "source": [
    "\"\"\"\n",
    "This class is used to connect your python to your cybr DB using the credentials used in the class.\n",
    "You will need to install the imported packages (refer to lecture 2 slides).\n",
    "You may also install it directly from here.\n",
    "\"\"\"\n",
    "\n",
    "# Package to connect to PostgreSQL\n",
    "import psycopg2\n",
    "\n",
    "# Ignore this for now\n",
    "# import psycopg2-binary\n",
    "\n",
    "\n",
    "class MyDB(object):\n",
    "    _db_connection = None\n",
    "    _db_cur = None\n",
    "\n",
    "    def __init__(self):\n",
    "        # Ensure you are using your credentials here.\n",
    "        # No need to change if you followed the instructions in the class/ slides.\n",
    "\n",
    "        self._db_connection = psycopg2.connect(host='localhost', user='cyberUser', password='c-4-9-3-A',\n",
    "                                               dbname='cybrDB',port='5432')\n",
    "        self._db_connection.set_isolation_level(psycopg2.extensions.ISOLATION_LEVEL_AUTOCOMMIT)\n",
    "        self._db_cur = self._db_connection.cursor()\n",
    "\n",
    "    def query(self, query, params):\n",
    "        first_return = self._db_cur.execute(query, params)\n",
    "        try:\n",
    "            return_me = self._db_cur.fetchall()\n",
    "        except Exception:\n",
    "            return_me = first_return\n",
    "        return return_me\n",
    "\n",
    "    def __del__(self):\n",
    "        if self._db_connection is not None:\n",
    "            self._db_connection.close()"
   ]
  },
  {
   "cell_type": "code",
   "execution_count": 8,
   "id": "d9610874",
   "metadata": {},
   "outputs": [],
   "source": [
    "\"\"\"\n",
    "Web scrapping in Python\n",
    "This is an example of scrapping a web page in Python using requests and lxml\n",
    "\n",
    "\"\"\"\n",
    "import DBConnector\n",
    "import requests\n",
    "from lxml import html\n",
    "\n",
    "\n",
    "def get_web_tree(link):\n",
    "    \"\"\"\n",
    "    This method gets a web page from the specified url, and returns a tree of all elements in the page\n",
    "    :param link: The webpage to access and process\n",
    "    :return: The tree element created from the page\n",
    "    \"\"\"\n",
    "    # Welcome message\n",
    "    #print('Obtaining the page: ', str(link))\n",
    "    # get the page\n",
    "    page = requests.get(link)\n",
    "    # get the elements from the page\n",
    "    page_tree = html.fromstring(page.content)\n",
    "    # return the tree of the web page\n",
    "    return page_tree\n"
   ]
  },
  {
   "cell_type": "code",
   "execution_count": 9,
   "id": "1c95e8ed",
   "metadata": {},
   "outputs": [],
   "source": [
    "def create_bug_info_table(db):\n",
    "    create_table_query = \"\"\"\n",
    "    CREATE TABLE IF NOT EXISTS Activity10_Porter_Martin (\n",
    "        \n",
    "        number TEXT NOT NULL UNIQUE,\n",
    "        severity TEXT NOT NULL,\n",
    "        status TEXT NOT NULL,\n",
    "        heat TEXT NOT NULL,\n",
    "        summary TEXT NOT NULL\n",
    "    \n",
    "    );\n",
    "    \"\"\"\n",
    "    db.query(create_table_query, '')\n",
    "    "
   ]
  },
  {
   "cell_type": "code",
   "execution_count": 10,
   "id": "5d4d4175",
   "metadata": {},
   "outputs": [],
   "source": [
    "url = \"https://bugs.launchpad.net/ubuntu/+bugs?field.searchtext=&field.status%3Alist=EXPIRED&field.status%3Alist=CONFIRMED&field.status%3Alist=TRIAGED&field.status%3Alist=INPROGRESS&field.status%3Alist=FIXCOMMITTED&field.status%3Alist=FIXRELEASED&field.importance%3Alist=UNKNOWN&field.importance%3Alist=UNDECIDED&field.importance%3Alist=CRITICAL&field.importance%3Alist=HIGH&field.importance%3Alist=MEDIUM&field.importance%3Alist=LOW&field.importance%3Alist=WISHLIST&field.information_type%3Alist=PUBLIC&field.information_type%3Alist=PUBLICSECURITY&field.information_type%3Alist=PRIVATESECURITY&field.information_type%3Alist=USERDATA&assignee_option=any&field.assignee=&field.bug_reporter=&field.bug_commenter=&field.subscriber=&field.structural_subscriber=&field.component-empty-marker=1&field.tag=&field.tags_combinator=ANY&field.status_upstream-empty-marker=1&field.has_cve.used=&field.omit_dupes.used=&field.omit_dupes=on&field.affects_me.used=&field.has_no_package.used=&field.has_patch.used=&field.has_branches.used=&field.has_branches=on&field.has_no_branches.used=&field.has_no_branches=on&field.has_blueprints.used=&field.has_blueprints=on&field.has_no_blueprints.used=&field.has_no_blueprints=on&search=Search&orderby=-importance&memo=75&start=0\""
   ]
  },
  {
   "cell_type": "code",
   "execution_count": 11,
   "id": "69a8354b",
   "metadata": {},
   "outputs": [
    {
     "name": "stdout",
     "output_type": "stream",
     "text": [
      "<bound method _Element.xpath of <Element html at 0x16d83fc90e0>>\n"
     ]
    }
   ],
   "source": [
    "main_tree = get_web_tree(url)\n",
    "print(main_tree.xpath)"
   ]
  },
  {
   "cell_type": "code",
   "execution_count": 12,
   "id": "902a2593",
   "metadata": {},
   "outputs": [
    {
     "ename": "OperationalError",
     "evalue": "could not connect to server: Connection refused (0x0000274D/10061)\n\tIs the server running on host \"localhost\" (::1) and accepting\n\tTCP/IP connections on port 5432?\ncould not connect to server: Connection refused (0x0000274D/10061)\n\tIs the server running on host \"localhost\" (127.0.0.1) and accepting\n\tTCP/IP connections on port 5432?\n",
     "output_type": "error",
     "traceback": [
      "\u001b[1;31m---------------------------------------------------------------------------\u001b[0m",
      "\u001b[1;31mOperationalError\u001b[0m                          Traceback (most recent call last)",
      "Cell \u001b[1;32mIn[12], line 21\u001b[0m\n\u001b[0;32m     18\u001b[0m         \u001b[38;5;28mprint\u001b[39m(\u001b[38;5;124mf\u001b[39m\u001b[38;5;124m\"\u001b[39m\u001b[38;5;124mInserted bug \u001b[39m\u001b[38;5;132;01m{\u001b[39;00mnumber\u001b[38;5;132;01m}\u001b[39;00m\u001b[38;5;124m\"\u001b[39m)\n\u001b[0;32m     20\u001b[0m \u001b[38;5;28;01mif\u001b[39;00m \u001b[38;5;18m__name__\u001b[39m \u001b[38;5;241m==\u001b[39m \u001b[38;5;124m\"\u001b[39m\u001b[38;5;124m__main__\u001b[39m\u001b[38;5;124m\"\u001b[39m:\n\u001b[1;32m---> 21\u001b[0m     \u001b[43mmain\u001b[49m\u001b[43m(\u001b[49m\u001b[43m)\u001b[49m\n",
      "Cell \u001b[1;32mIn[12], line 2\u001b[0m, in \u001b[0;36mmain\u001b[1;34m()\u001b[0m\n\u001b[0;32m      1\u001b[0m \u001b[38;5;28;01mdef\u001b[39;00m \u001b[38;5;21mmain\u001b[39m():\n\u001b[1;32m----> 2\u001b[0m     db \u001b[38;5;241m=\u001b[39m \u001b[43mMyDB\u001b[49m\u001b[43m(\u001b[49m\u001b[43m)\u001b[49m\n\u001b[0;32m      4\u001b[0m     create_bug_info_table(db)\n\u001b[0;32m      6\u001b[0m     insert_bug_query \u001b[38;5;241m=\u001b[39m \u001b[38;5;124m\"\u001b[39m\u001b[38;5;124mINSERT INTO Activity10_Porter_Martin (number, severity, status, heat, summary) VALUES (\u001b[39m\u001b[38;5;132;01m%s\u001b[39;00m\u001b[38;5;124m, \u001b[39m\u001b[38;5;132;01m%s\u001b[39;00m\u001b[38;5;124m, \u001b[39m\u001b[38;5;132;01m%s\u001b[39;00m\u001b[38;5;124m, \u001b[39m\u001b[38;5;132;01m%s\u001b[39;00m\u001b[38;5;124m, \u001b[39m\u001b[38;5;132;01m%s\u001b[39;00m\u001b[38;5;124m)\u001b[39m\u001b[38;5;124m\"\u001b[39m\n",
      "Cell \u001b[1;32mIn[7], line 22\u001b[0m, in \u001b[0;36mMyDB.__init__\u001b[1;34m(self)\u001b[0m\n\u001b[0;32m     18\u001b[0m \u001b[38;5;28;01mdef\u001b[39;00m \u001b[38;5;21m__init__\u001b[39m(\u001b[38;5;28mself\u001b[39m):\n\u001b[0;32m     19\u001b[0m     \u001b[38;5;66;03m# Ensure you are using your credentials here.\u001b[39;00m\n\u001b[0;32m     20\u001b[0m     \u001b[38;5;66;03m# No need to change if you followed the instructions in the class/ slides.\u001b[39;00m\n\u001b[1;32m---> 22\u001b[0m     \u001b[38;5;28mself\u001b[39m\u001b[38;5;241m.\u001b[39m_db_connection \u001b[38;5;241m=\u001b[39m \u001b[43mpsycopg2\u001b[49m\u001b[38;5;241;43m.\u001b[39;49m\u001b[43mconnect\u001b[49m\u001b[43m(\u001b[49m\u001b[43mhost\u001b[49m\u001b[38;5;241;43m=\u001b[39;49m\u001b[38;5;124;43m'\u001b[39;49m\u001b[38;5;124;43mlocalhost\u001b[39;49m\u001b[38;5;124;43m'\u001b[39;49m\u001b[43m,\u001b[49m\u001b[43m \u001b[49m\u001b[43muser\u001b[49m\u001b[38;5;241;43m=\u001b[39;49m\u001b[38;5;124;43m'\u001b[39;49m\u001b[38;5;124;43mcyberUser\u001b[39;49m\u001b[38;5;124;43m'\u001b[39;49m\u001b[43m,\u001b[49m\u001b[43m \u001b[49m\u001b[43mpassword\u001b[49m\u001b[38;5;241;43m=\u001b[39;49m\u001b[38;5;124;43m'\u001b[39;49m\u001b[38;5;124;43mc-4-9-3-A\u001b[39;49m\u001b[38;5;124;43m'\u001b[39;49m\u001b[43m,\u001b[49m\n\u001b[0;32m     23\u001b[0m \u001b[43m                                           \u001b[49m\u001b[43mdbname\u001b[49m\u001b[38;5;241;43m=\u001b[39;49m\u001b[38;5;124;43m'\u001b[39;49m\u001b[38;5;124;43mcybrDB\u001b[39;49m\u001b[38;5;124;43m'\u001b[39;49m\u001b[43m,\u001b[49m\u001b[43mport\u001b[49m\u001b[38;5;241;43m=\u001b[39;49m\u001b[38;5;124;43m'\u001b[39;49m\u001b[38;5;124;43m5432\u001b[39;49m\u001b[38;5;124;43m'\u001b[39;49m\u001b[43m)\u001b[49m\n\u001b[0;32m     24\u001b[0m     \u001b[38;5;28mself\u001b[39m\u001b[38;5;241m.\u001b[39m_db_connection\u001b[38;5;241m.\u001b[39mset_isolation_level(psycopg2\u001b[38;5;241m.\u001b[39mextensions\u001b[38;5;241m.\u001b[39mISOLATION_LEVEL_AUTOCOMMIT)\n\u001b[0;32m     25\u001b[0m     \u001b[38;5;28mself\u001b[39m\u001b[38;5;241m.\u001b[39m_db_cur \u001b[38;5;241m=\u001b[39m \u001b[38;5;28mself\u001b[39m\u001b[38;5;241m.\u001b[39m_db_connection\u001b[38;5;241m.\u001b[39mcursor()\n",
      "File \u001b[1;32m~\\miniconda3\\envs\\pythonForCyber\\lib\\site-packages\\psycopg2\\__init__.py:122\u001b[0m, in \u001b[0;36mconnect\u001b[1;34m(dsn, connection_factory, cursor_factory, **kwargs)\u001b[0m\n\u001b[0;32m    119\u001b[0m     kwasync[\u001b[38;5;124m'\u001b[39m\u001b[38;5;124masync_\u001b[39m\u001b[38;5;124m'\u001b[39m] \u001b[38;5;241m=\u001b[39m kwargs\u001b[38;5;241m.\u001b[39mpop(\u001b[38;5;124m'\u001b[39m\u001b[38;5;124masync_\u001b[39m\u001b[38;5;124m'\u001b[39m)\n\u001b[0;32m    121\u001b[0m dsn \u001b[38;5;241m=\u001b[39m _ext\u001b[38;5;241m.\u001b[39mmake_dsn(dsn, \u001b[38;5;241m*\u001b[39m\u001b[38;5;241m*\u001b[39mkwargs)\n\u001b[1;32m--> 122\u001b[0m conn \u001b[38;5;241m=\u001b[39m _connect(dsn, connection_factory\u001b[38;5;241m=\u001b[39mconnection_factory, \u001b[38;5;241m*\u001b[39m\u001b[38;5;241m*\u001b[39mkwasync)\n\u001b[0;32m    123\u001b[0m \u001b[38;5;28;01mif\u001b[39;00m cursor_factory \u001b[38;5;129;01mis\u001b[39;00m \u001b[38;5;129;01mnot\u001b[39;00m \u001b[38;5;28;01mNone\u001b[39;00m:\n\u001b[0;32m    124\u001b[0m     conn\u001b[38;5;241m.\u001b[39mcursor_factory \u001b[38;5;241m=\u001b[39m cursor_factory\n",
      "\u001b[1;31mOperationalError\u001b[0m: could not connect to server: Connection refused (0x0000274D/10061)\n\tIs the server running on host \"localhost\" (::1) and accepting\n\tTCP/IP connections on port 5432?\ncould not connect to server: Connection refused (0x0000274D/10061)\n\tIs the server running on host \"localhost\" (127.0.0.1) and accepting\n\tTCP/IP connections on port 5432?\n"
     ]
    }
   ],
   "source": [
    "def main():\n",
    "    db = MyDB()\n",
    "    \n",
    "    create_bug_info_table(db)\n",
    "    \n",
    "    insert_bug_query = \"INSERT INTO Activity10_Porter_Martin (number, severity, status, heat, summary) VALUES (%s, %s, %s, %s, %s)\"\n",
    "    for bug in BugInfos:\n",
    "        bugImportance = bug.xpath(\".//div['buglisting-col1']//text()\")\n",
    "        #section[.//h1[@id='hi']]\n",
    "        print(bugImportance[9].strip(), bugImportance[3].strip(), bugImportance[18].strip(), bugImportance[1].strip(), bugImportance[16].strip(), bugImportance[11].strip())\n",
    "        number = bugImportance[9].strip()\n",
    "        severity = bugImportance[3].strip()\n",
    "        status = bugImportance[18].strip()\n",
    "        heat = bugImportance[1].strip()\n",
    "        summary = bugImportance[11].strip()\n",
    "        \n",
    "        db.query(insert_bug_query, (number, severity, status, heat, summary))\n",
    "        print(f\"Inserted bug {number}\")\n",
    "        \n",
    "if __name__ == \"__main__\":\n",
    "    main()\n",
    "    \n",
    "    "
   ]
  },
  {
   "cell_type": "code",
   "execution_count": null,
   "id": "0707eee9",
   "metadata": {},
   "outputs": [],
   "source": [
    "for bug in BugInfos:\n",
    "    bugImportance = bug.xpath(\".//div['buglisting-col1']//text()\")\n",
    "    #section[.//h1[@id='hi']]\n",
    "    print(bugImportance[9].strip(), bugImportance[3].strip(), bugImportance[18].strip(), bugImportance[1].strip(), bugImportance[16].strip(), bugImportance[11].strip())"
   ]
  },
  {
   "cell_type": "code",
   "execution_count": null,
   "id": "b38d6381",
   "metadata": {},
   "outputs": [],
   "source": []
  }
 ],
 "metadata": {
  "kernelspec": {
   "display_name": "Python [conda env:pythonForCyber] *",
   "language": "python",
   "name": "conda-env-pythonForCyber-py"
  },
  "language_info": {
   "codemirror_mode": {
    "name": "ipython",
    "version": 3
   },
   "file_extension": ".py",
   "mimetype": "text/x-python",
   "name": "python",
   "nbconvert_exporter": "python",
   "pygments_lexer": "ipython3",
   "version": "3.9.19"
  }
 },
 "nbformat": 4,
 "nbformat_minor": 5
}
