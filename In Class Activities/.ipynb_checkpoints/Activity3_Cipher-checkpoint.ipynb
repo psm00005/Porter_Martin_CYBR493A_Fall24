{
 "cells": [
  {
   "cell_type": "code",
   "execution_count": 9,
   "id": "7e6a514d",
   "metadata": {},
   "outputs": [],
   "source": [
    "import string\n",
    "def cipher_encrypt(message, key):\n",
    "    #Alphabet creation from in class\n",
    "    chars = string.ascii_uppercase\n",
    "    #Added to save the parameters onto the enyrpted uppercase from class\n",
    "    encrypt = message.upper()\n",
    "    # Added something to hold the variable\n",
    "    result = \"\"\n",
    "    #Added for loop to go through the message\n",
    "    for char in encrypt:\n",
    "        if char in chars:\n",
    "            #Added to save the coreect letter for shifting\n",
    "            index = (chars.find(char)+key) % 26\n",
    "            #Added to save the letter after the shift\n",
    "            result = result + chars[index]\n",
    "        else:\n",
    "            #If char is not a leter pass it anyways\n",
    "            result = result+char\n",
    "            \n",
    "    return result\n",
    "        \n"
   ]
  },
  {
   "cell_type": "code",
   "execution_count": 10,
   "id": "983b7d39",
   "metadata": {},
   "outputs": [
    {
     "data": {
      "text/plain": [
       "'IHUHUH'"
      ]
     },
     "execution_count": 10,
     "metadata": {},
     "output_type": "execute_result"
    }
   ],
   "source": [
    "cipher_encrypt(\"Banana\", 7)"
   ]
  },
  {
   "cell_type": "code",
   "execution_count": 11,
   "id": "7377bd9f",
   "metadata": {},
   "outputs": [],
   "source": [
    "import string\n",
    "def cipher_decrypt(message, key):\n",
    "    #Alphabet creation from in class\n",
    "    chars = string.ascii_uppercase\n",
    "    #Added to save the parameters onto the enyrpted uppercase from class\n",
    "    decrypt = message.upper()\n",
    "    # Added something to hold the variable\n",
    "    result = \"\"\n",
    "    #Added for loop to go through the message\n",
    "    for char in decrypt:\n",
    "        if char in chars:\n",
    "            #Added to save the coreect letter for shifting\n",
    "            index = (chars.find(char)-key) % 26\n",
    "            #Added to save the letter after the shift\n",
    "            result = result + chars[index]\n",
    "        else:\n",
    "            #If char is not a leter pass it anyways\n",
    "            result = result+char\n",
    "            \n",
    "    return result\n",
    "        \n"
   ]
  },
  {
   "cell_type": "code",
   "execution_count": 14,
   "id": "5aeb6c22",
   "metadata": {},
   "outputs": [
    {
     "data": {
      "text/plain": [
       "'BANANA'"
      ]
     },
     "execution_count": 14,
     "metadata": {},
     "output_type": "execute_result"
    }
   ],
   "source": [
    "cipher_decrypt(\"IHUHUH\", 7)"
   ]
  },
  {
   "cell_type": "code",
   "execution_count": null,
   "id": "d4d9c25a",
   "metadata": {},
   "outputs": [],
   "source": []
  }
 ],
 "metadata": {
  "kernelspec": {
   "display_name": "Python [conda env:pythonForCyber] *",
   "language": "python",
   "name": "conda-env-pythonForCyber-py"
  },
  "language_info": {
   "codemirror_mode": {
    "name": "ipython",
    "version": 3
   },
   "file_extension": ".py",
   "mimetype": "text/x-python",
   "name": "python",
   "nbconvert_exporter": "python",
   "pygments_lexer": "ipython3",
   "version": "3.9.19"
  }
 },
 "nbformat": 4,
 "nbformat_minor": 5
}
