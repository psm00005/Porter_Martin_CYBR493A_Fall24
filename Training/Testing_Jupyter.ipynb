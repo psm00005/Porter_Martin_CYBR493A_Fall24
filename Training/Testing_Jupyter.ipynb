{
 "cells": [
  {
   "cell_type": "code",
   "execution_count": 1,
   "id": "fac62bd1",
   "metadata": {},
   "outputs": [],
   "source": [
    "def printAlist(list):\n",
    "    for item in list:\n",
    "        print(item)"
   ]
  },
  {
   "cell_type": "code",
   "execution_count": 3,
   "id": "55c0d1a8",
   "metadata": {},
   "outputs": [],
   "source": [
    "ips = [\"127.0.0.1\", \"192.168.10.10\"]\n"
   ]
  },
  {
   "cell_type": "code",
   "execution_count": 4,
   "id": "a21fd8d3",
   "metadata": {},
   "outputs": [
    {
     "name": "stdout",
     "output_type": "stream",
     "text": [
      "127.0.0.1\n",
      "192.168.10.10\n"
     ]
    }
   ],
   "source": [
    "printAlist(ips)"
   ]
  },
  {
   "cell_type": "code",
   "execution_count": null,
   "id": "f5b09cd6",
   "metadata": {},
   "outputs": [],
   "source": []
  }
 ],
 "metadata": {
  "kernelspec": {
   "display_name": "Python [conda env:pythonForCyber] *",
   "language": "python",
   "name": "conda-env-pythonForCyber-py"
  },
  "language_info": {
   "codemirror_mode": {
    "name": "ipython",
    "version": 3
   },
   "file_extension": ".py",
   "mimetype": "text/x-python",
   "name": "python",
   "nbconvert_exporter": "python",
   "pygments_lexer": "ipython3",
   "version": "3.9.19"
  }
 },
 "nbformat": 4,
 "nbformat_minor": 5
}
