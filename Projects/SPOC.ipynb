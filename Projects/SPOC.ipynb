{
 "cells": [
  {
   "cell_type": "code",
   "execution_count": 1,
   "id": "92ce77c6",
   "metadata": {
    "ExecuteTime": {
     "end_time": "2024-12-11T02:03:23.481373Z",
     "start_time": "2024-12-11T02:03:23.172373Z"
    }
   },
   "outputs": [
    {
     "name": "stdout",
     "output_type": "stream",
     "text": [
      "Requirement already satisfied: arcgis in c:\\users\\jake\\miniconda3\\envs\\pythonforcyber\\lib\\site-packages (2.3.1)\n",
      "Requirement already satisfied: dask-expr in c:\\users\\jake\\miniconda3\\envs\\pythonforcyber\\lib\\site-packages (1.1.10)\n",
      "Requirement already satisfied: pillow in c:\\users\\jake\\miniconda3\\envs\\pythonforcyber\\lib\\site-packages (from arcgis) (11.0.0)\n",
      "Requirement already satisfied: urllib3<3,>=1.26.1 in c:\\users\\jake\\miniconda3\\envs\\pythonforcyber\\lib\\site-packages (from arcgis) (2.2.3)\n",
      "Requirement already satisfied: cachetools in c:\\users\\jake\\miniconda3\\envs\\pythonforcyber\\lib\\site-packages (from arcgis) (5.5.0)\n",
      "Requirement already satisfied: lxml in c:\\users\\jake\\miniconda3\\envs\\pythonforcyber\\lib\\site-packages (from arcgis) (5.2.1)\n",
      "Requirement already satisfied: notebook in c:\\users\\jake\\miniconda3\\envs\\pythonforcyber\\lib\\site-packages (from arcgis) (6.5.7)\n",
      "Requirement already satisfied: cryptography in c:\\users\\jake\\miniconda3\\envs\\pythonforcyber\\lib\\site-packages (from arcgis) (43.0.0)\n",
      "Requirement already satisfied: ipywidgets<8,>=7 in c:\\users\\jake\\miniconda3\\envs\\pythonforcyber\\lib\\site-packages (from arcgis) (7.8.5)\n",
      "Requirement already satisfied: widgetsnbextension>=3 in c:\\users\\jake\\miniconda3\\envs\\pythonforcyber\\lib\\site-packages (from arcgis) (3.6.10)\n",
      "Requirement already satisfied: jupyter-client<=6.1.12 in c:\\users\\jake\\miniconda3\\envs\\pythonforcyber\\lib\\site-packages (from arcgis) (6.1.12)\n",
      "Requirement already satisfied: pandas<2.2.0,>=2.0.0 in c:\\users\\jake\\miniconda3\\envs\\pythonforcyber\\lib\\site-packages (from arcgis) (2.1.4)\n",
      "Requirement already satisfied: numpy<2,>=1.21.6 in c:\\users\\jake\\miniconda3\\envs\\pythonforcyber\\lib\\site-packages (from arcgis) (1.26.4)\n",
      "Requirement already satisfied: matplotlib in c:\\users\\jake\\miniconda3\\envs\\pythonforcyber\\lib\\site-packages (from arcgis) (3.9.2)\n",
      "Requirement already satisfied: keyring>=23.3.0 in c:\\users\\jake\\miniconda3\\envs\\pythonforcyber\\lib\\site-packages (from arcgis) (25.5.0)\n",
      "Requirement already satisfied: pylerc in c:\\users\\jake\\miniconda3\\envs\\pythonforcyber\\lib\\site-packages (from arcgis) (4.0)\n",
      "Requirement already satisfied: ujson>=3 in c:\\users\\jake\\miniconda3\\envs\\pythonforcyber\\lib\\site-packages (from arcgis) (5.10.0)\n",
      "Requirement already satisfied: jupyterlab in c:\\users\\jake\\miniconda3\\envs\\pythonforcyber\\lib\\site-packages (from arcgis) (3.6.8)\n",
      "Requirement already satisfied: pyshp>=2 in c:\\users\\jake\\miniconda3\\envs\\pythonforcyber\\lib\\site-packages (from arcgis) (2.3.1)\n",
      "Requirement already satisfied: geomet in c:\\users\\jake\\miniconda3\\envs\\pythonforcyber\\lib\\site-packages (from arcgis) (1.1.0)\n",
      "Requirement already satisfied: requests<2.32.0,>=2.30.0 in c:\\users\\jake\\miniconda3\\envs\\pythonforcyber\\lib\\site-packages (from arcgis) (2.31.0)\n",
      "Requirement already satisfied: requests-oauthlib in c:\\users\\jake\\miniconda3\\envs\\pythonforcyber\\lib\\site-packages (from arcgis) (2.0.0)\n",
      "Requirement already satisfied: requests-toolbelt in c:\\users\\jake\\miniconda3\\envs\\pythonforcyber\\lib\\site-packages (from arcgis) (1.0.0)\n",
      "Requirement already satisfied: pyspnego>=0.8.0 in c:\\users\\jake\\miniconda3\\envs\\pythonforcyber\\lib\\site-packages (from arcgis) (0.11.2)\n",
      "Requirement already satisfied: requests-kerberos in c:\\users\\jake\\miniconda3\\envs\\pythonforcyber\\lib\\site-packages (from arcgis) (0.15.0)\n",
      "Requirement already satisfied: requests-gssapi in c:\\users\\jake\\miniconda3\\envs\\pythonforcyber\\lib\\site-packages (from arcgis) (1.3.0)\n",
      "Requirement already satisfied: dask>=2023.3.2 in c:\\users\\jake\\miniconda3\\envs\\pythonforcyber\\lib\\site-packages (from arcgis) (2024.8.0)\n",
      "Requirement already satisfied: matplotlib-inline in c:\\users\\jake\\miniconda3\\envs\\pythonforcyber\\lib\\site-packages (from arcgis) (0.1.7)\n",
      "Requirement already satisfied: pyarrow>=11.0.0 in c:\\users\\jake\\miniconda3\\envs\\pythonforcyber\\lib\\site-packages (from arcgis) (18.1.0)\n",
      "Requirement already satisfied: puremagic<2,>=1.15 in c:\\users\\jake\\miniconda3\\envs\\pythonforcyber\\lib\\site-packages (from arcgis) (1.28)\n",
      "Requirement already satisfied: pywin32>=223 in c:\\users\\jake\\miniconda3\\envs\\pythonforcyber\\lib\\site-packages (from arcgis) (306)\n",
      "Requirement already satisfied: python-certifi-win32 in c:\\users\\jake\\miniconda3\\envs\\pythonforcyber\\lib\\site-packages (from arcgis) (1.6.1)\n",
      "Requirement already satisfied: click>=8.1 in c:\\users\\jake\\miniconda3\\envs\\pythonforcyber\\lib\\site-packages (from dask>=2023.3.2->arcgis) (8.1.7)\n",
      "Requirement already satisfied: cloudpickle>=1.5.0 in c:\\users\\jake\\miniconda3\\envs\\pythonforcyber\\lib\\site-packages (from dask>=2023.3.2->arcgis) (3.1.0)\n",
      "Requirement already satisfied: fsspec>=2021.09.0 in c:\\users\\jake\\miniconda3\\envs\\pythonforcyber\\lib\\site-packages (from dask>=2023.3.2->arcgis) (2024.10.0)\n",
      "Requirement already satisfied: packaging>=20.0 in c:\\users\\jake\\miniconda3\\envs\\pythonforcyber\\lib\\site-packages (from dask>=2023.3.2->arcgis) (24.1)\n",
      "Requirement already satisfied: partd>=1.4.0 in c:\\users\\jake\\miniconda3\\envs\\pythonforcyber\\lib\\site-packages (from dask>=2023.3.2->arcgis) (1.4.2)\n",
      "Requirement already satisfied: pyyaml>=5.3.1 in c:\\users\\jake\\miniconda3\\envs\\pythonforcyber\\lib\\site-packages (from dask>=2023.3.2->arcgis) (6.0.2)\n",
      "Requirement already satisfied: toolz>=0.10.0 in c:\\users\\jake\\miniconda3\\envs\\pythonforcyber\\lib\\site-packages (from dask>=2023.3.2->arcgis) (1.0.0)\n",
      "Requirement already satisfied: importlib-metadata>=4.13.0 in c:\\users\\jake\\miniconda3\\envs\\pythonforcyber\\lib\\site-packages (from dask>=2023.3.2->arcgis) (8.5.0)\n",
      "Requirement already satisfied: comm>=0.1.3 in c:\\users\\jake\\miniconda3\\envs\\pythonforcyber\\lib\\site-packages (from ipywidgets<8,>=7->arcgis) (0.2.2)\n",
      "Requirement already satisfied: ipython-genutils~=0.2.0 in c:\\users\\jake\\miniconda3\\envs\\pythonforcyber\\lib\\site-packages (from ipywidgets<8,>=7->arcgis) (0.2.0)\n",
      "Requirement already satisfied: traitlets>=4.3.1 in c:\\users\\jake\\miniconda3\\envs\\pythonforcyber\\lib\\site-packages (from ipywidgets<8,>=7->arcgis) (5.14.3)\n",
      "Requirement already satisfied: ipython>=4.0.0 in c:\\users\\jake\\miniconda3\\envs\\pythonforcyber\\lib\\site-packages (from ipywidgets<8,>=7->arcgis) (8.18.1)\n",
      "Requirement already satisfied: jupyterlab-widgets<3,>=1.0.0 in c:\\users\\jake\\miniconda3\\envs\\pythonforcyber\\lib\\site-packages (from ipywidgets<8,>=7->arcgis) (1.1.11)\n",
      "Requirement already satisfied: jupyter-core>=4.6.0 in c:\\users\\jake\\miniconda3\\envs\\pythonforcyber\\lib\\site-packages (from jupyter-client<=6.1.12->arcgis) (5.7.2)\n",
      "Requirement already satisfied: pyzmq>=13 in c:\\users\\jake\\miniconda3\\envs\\pythonforcyber\\lib\\site-packages (from jupyter-client<=6.1.12->arcgis) (26.2.0)\n",
      "Requirement already satisfied: python-dateutil>=2.1 in c:\\users\\jake\\miniconda3\\envs\\pythonforcyber\\lib\\site-packages (from jupyter-client<=6.1.12->arcgis) (2.9.0)\n",
      "Requirement already satisfied: tornado>=4.1 in c:\\users\\jake\\miniconda3\\envs\\pythonforcyber\\lib\\site-packages (from jupyter-client<=6.1.12->arcgis) (6.4.1)\n",
      "Requirement already satisfied: jaraco.classes in c:\\users\\jake\\miniconda3\\envs\\pythonforcyber\\lib\\site-packages (from keyring>=23.3.0->arcgis) (3.4.0)\n",
      "Requirement already satisfied: jaraco.functools in c:\\users\\jake\\miniconda3\\envs\\pythonforcyber\\lib\\site-packages (from keyring>=23.3.0->arcgis) (4.1.0)\n",
      "Requirement already satisfied: jaraco.context in c:\\users\\jake\\miniconda3\\envs\\pythonforcyber\\lib\\site-packages (from keyring>=23.3.0->arcgis) (6.0.1)\n",
      "Requirement already satisfied: pywin32-ctypes>=0.2.0 in c:\\users\\jake\\miniconda3\\envs\\pythonforcyber\\lib\\site-packages (from keyring>=23.3.0->arcgis) (0.2.3)\n",
      "Requirement already satisfied: pytz>=2020.1 in c:\\users\\jake\\miniconda3\\envs\\pythonforcyber\\lib\\site-packages (from pandas<2.2.0,>=2.0.0->arcgis) (2024.1)\n",
      "Requirement already satisfied: tzdata>=2022.1 in c:\\users\\jake\\miniconda3\\envs\\pythonforcyber\\lib\\site-packages (from pandas<2.2.0,>=2.0.0->arcgis) (2023.3)\n",
      "Requirement already satisfied: sspilib>=0.1.0 in c:\\users\\jake\\miniconda3\\envs\\pythonforcyber\\lib\\site-packages (from pyspnego>=0.8.0->arcgis) (0.2.0)\n",
      "Requirement already satisfied: charset-normalizer<4,>=2 in c:\\users\\jake\\miniconda3\\envs\\pythonforcyber\\lib\\site-packages (from requests<2.32.0,>=2.30.0->arcgis) (3.3.2)\n",
      "Requirement already satisfied: idna<4,>=2.5 in c:\\users\\jake\\miniconda3\\envs\\pythonforcyber\\lib\\site-packages (from requests<2.32.0,>=2.30.0->arcgis) (3.10)\n",
      "Requirement already satisfied: certifi>=2017.4.17 in c:\\users\\jake\\miniconda3\\envs\\pythonforcyber\\lib\\site-packages (from requests<2.32.0,>=2.30.0->arcgis) (2024.8.30)\n",
      "Requirement already satisfied: jinja2 in c:\\users\\jake\\miniconda3\\envs\\pythonforcyber\\lib\\site-packages (from notebook->arcgis) (3.1.4)\n",
      "Requirement already satisfied: argon2-cffi in c:\\users\\jake\\miniconda3\\envs\\pythonforcyber\\lib\\site-packages (from notebook->arcgis) (23.1.0)\n",
      "Requirement already satisfied: nbformat in c:\\users\\jake\\miniconda3\\envs\\pythonforcyber\\lib\\site-packages (from notebook->arcgis) (5.10.4)\n",
      "Requirement already satisfied: nbconvert>=5 in c:\\users\\jake\\miniconda3\\envs\\pythonforcyber\\lib\\site-packages (from notebook->arcgis) (7.16.4)\n",
      "Requirement already satisfied: nest-asyncio>=1.5 in c:\\users\\jake\\miniconda3\\envs\\pythonforcyber\\lib\\site-packages (from notebook->arcgis) (1.6.0)\n",
      "Requirement already satisfied: ipykernel in c:\\users\\jake\\miniconda3\\envs\\pythonforcyber\\lib\\site-packages (from notebook->arcgis) (6.29.5)\n",
      "Requirement already satisfied: Send2Trash>=1.8.0 in c:\\users\\jake\\miniconda3\\envs\\pythonforcyber\\lib\\site-packages (from notebook->arcgis) (1.8.3)\n",
      "Requirement already satisfied: terminado>=0.8.3 in c:\\users\\jake\\miniconda3\\envs\\pythonforcyber\\lib\\site-packages (from notebook->arcgis) (0.18.1)\n",
      "Requirement already satisfied: prometheus-client in c:\\users\\jake\\miniconda3\\envs\\pythonforcyber\\lib\\site-packages (from notebook->arcgis) (0.20.0)\n",
      "Requirement already satisfied: nbclassic>=0.4.7 in c:\\users\\jake\\miniconda3\\envs\\pythonforcyber\\lib\\site-packages (from notebook->arcgis) (1.1.0)\n",
      "Requirement already satisfied: cffi>=1.12 in c:\\users\\jake\\miniconda3\\envs\\pythonforcyber\\lib\\site-packages (from cryptography->arcgis) (1.17.1)\n",
      "Requirement already satisfied: jupyterlab-server~=2.19 in c:\\users\\jake\\miniconda3\\envs\\pythonforcyber\\lib\\site-packages (from jupyterlab->arcgis) (2.27.3)\n",
      "Requirement already satisfied: jupyter-server<3,>=1.16.0 in c:\\users\\jake\\miniconda3\\envs\\pythonforcyber\\lib\\site-packages (from jupyterlab->arcgis) (1.24.0)\n",
      "Requirement already satisfied: jupyter-ydoc~=0.2.4 in c:\\users\\jake\\miniconda3\\envs\\pythonforcyber\\lib\\site-packages (from jupyterlab->arcgis) (0.2.5)\n",
      "Requirement already satisfied: jupyter-server-ydoc~=0.8.0 in c:\\users\\jake\\miniconda3\\envs\\pythonforcyber\\lib\\site-packages (from jupyterlab->arcgis) (0.8.0)\n",
      "Requirement already satisfied: tomli in c:\\users\\jake\\miniconda3\\envs\\pythonforcyber\\lib\\site-packages (from jupyterlab->arcgis) (2.0.1)\n",
      "Requirement already satisfied: contourpy>=1.0.1 in c:\\users\\jake\\miniconda3\\envs\\pythonforcyber\\lib\\site-packages (from matplotlib->arcgis) (1.2.0)\n",
      "Requirement already satisfied: cycler>=0.10 in c:\\users\\jake\\miniconda3\\envs\\pythonforcyber\\lib\\site-packages (from matplotlib->arcgis) (0.11.0)\n",
      "Requirement already satisfied: fonttools>=4.22.0 in c:\\users\\jake\\miniconda3\\envs\\pythonforcyber\\lib\\site-packages (from matplotlib->arcgis) (4.51.0)\n",
      "Requirement already satisfied: kiwisolver>=1.3.1 in c:\\users\\jake\\miniconda3\\envs\\pythonforcyber\\lib\\site-packages (from matplotlib->arcgis) (1.4.4)\n",
      "Requirement already satisfied: pyparsing>=2.3.1 in c:\\users\\jake\\miniconda3\\envs\\pythonforcyber\\lib\\site-packages (from matplotlib->arcgis) (3.2.0)\n",
      "Requirement already satisfied: importlib-resources>=3.2.0 in c:\\users\\jake\\miniconda3\\envs\\pythonforcyber\\lib\\site-packages (from matplotlib->arcgis) (6.4.5)\n",
      "Requirement already satisfied: wrapt>=1.10.4 in c:\\users\\jake\\miniconda3\\envs\\pythonforcyber\\lib\\site-packages (from python-certifi-win32->arcgis) (1.17.0)\n",
      "Requirement already satisfied: setuptools-scm in c:\\users\\jake\\miniconda3\\envs\\pythonforcyber\\lib\\site-packages (from python-certifi-win32->arcgis) (8.1.0)\n",
      "Requirement already satisfied: gssapi in c:\\users\\jake\\miniconda3\\envs\\pythonforcyber\\lib\\site-packages (from requests-gssapi->arcgis) (1.9.0)\n",
      "Requirement already satisfied: oauthlib>=3.0.0 in c:\\users\\jake\\miniconda3\\envs\\pythonforcyber\\lib\\site-packages (from requests-oauthlib->arcgis) (3.2.2)\n",
      "Requirement already satisfied: pycparser in c:\\users\\jake\\miniconda3\\envs\\pythonforcyber\\lib\\site-packages (from cffi>=1.12->cryptography->arcgis) (2.22)\n",
      "Requirement already satisfied: colorama in c:\\users\\jake\\miniconda3\\envs\\pythonforcyber\\lib\\site-packages (from click>=8.1->dask>=2023.3.2->arcgis) (0.4.6)\n",
      "Requirement already satisfied: zipp>=3.20 in c:\\users\\jake\\miniconda3\\envs\\pythonforcyber\\lib\\site-packages (from importlib-metadata>=4.13.0->dask>=2023.3.2->arcgis) (3.20.2)\n",
      "Requirement already satisfied: decorator in c:\\users\\jake\\miniconda3\\envs\\pythonforcyber\\lib\\site-packages (from ipython>=4.0.0->ipywidgets<8,>=7->arcgis) (5.1.1)\n",
      "Requirement already satisfied: jedi>=0.16 in c:\\users\\jake\\miniconda3\\envs\\pythonforcyber\\lib\\site-packages (from ipython>=4.0.0->ipywidgets<8,>=7->arcgis) (0.19.1)\n",
      "Requirement already satisfied: prompt-toolkit<3.1.0,>=3.0.41 in c:\\users\\jake\\miniconda3\\envs\\pythonforcyber\\lib\\site-packages (from ipython>=4.0.0->ipywidgets<8,>=7->arcgis) (3.0.47)\n",
      "Requirement already satisfied: pygments>=2.4.0 in c:\\users\\jake\\miniconda3\\envs\\pythonforcyber\\lib\\site-packages (from ipython>=4.0.0->ipywidgets<8,>=7->arcgis) (2.18.0)\n",
      "Requirement already satisfied: stack-data in c:\\users\\jake\\miniconda3\\envs\\pythonforcyber\\lib\\site-packages (from ipython>=4.0.0->ipywidgets<8,>=7->arcgis) (0.6.2)\n",
      "Requirement already satisfied: typing-extensions in c:\\users\\jake\\miniconda3\\envs\\pythonforcyber\\lib\\site-packages (from ipython>=4.0.0->ipywidgets<8,>=7->arcgis) (4.12.2)\n",
      "Requirement already satisfied: exceptiongroup in c:\\users\\jake\\miniconda3\\envs\\pythonforcyber\\lib\\site-packages (from ipython>=4.0.0->ipywidgets<8,>=7->arcgis) (1.2.2)\n",
      "Requirement already satisfied: MarkupSafe>=2.0 in c:\\users\\jake\\miniconda3\\envs\\pythonforcyber\\lib\\site-packages (from jinja2->notebook->arcgis) (2.1.5)\n",
      "Requirement already satisfied: platformdirs>=2.5 in c:\\users\\jake\\miniconda3\\envs\\pythonforcyber\\lib\\site-packages (from jupyter-core>=4.6.0->jupyter-client<=6.1.12->arcgis) (4.3.6)\n",
      "Requirement already satisfied: anyio<4,>=3.1.0 in c:\\users\\jake\\miniconda3\\envs\\pythonforcyber\\lib\\site-packages (from jupyter-server<3,>=1.16.0->jupyterlab->arcgis) (3.7.1)\n",
      "Requirement already satisfied: websocket-client in c:\\users\\jake\\miniconda3\\envs\\pythonforcyber\\lib\\site-packages (from jupyter-server<3,>=1.16.0->jupyterlab->arcgis) (1.8.0)\n",
      "Requirement already satisfied: pywinpty in c:\\users\\jake\\miniconda3\\envs\\pythonforcyber\\lib\\site-packages (from jupyter-server<3,>=1.16.0->jupyterlab->arcgis) (2.0.13)\n",
      "Requirement already satisfied: jupyter-server-fileid<1,>=0.6.0 in c:\\users\\jake\\miniconda3\\envs\\pythonforcyber\\lib\\site-packages (from jupyter-server-ydoc~=0.8.0->jupyterlab->arcgis) (0.9.3)\n",
      "Requirement already satisfied: ypy-websocket<0.9.0,>=0.8.2 in c:\\users\\jake\\miniconda3\\envs\\pythonforcyber\\lib\\site-packages (from jupyter-server-ydoc~=0.8.0->jupyterlab->arcgis) (0.8.4)\n",
      "Requirement already satisfied: y-py<0.7.0,>=0.6.0 in c:\\users\\jake\\miniconda3\\envs\\pythonforcyber\\lib\\site-packages (from jupyter-ydoc~=0.2.4->jupyterlab->arcgis) (0.6.2)\n",
      "Requirement already satisfied: babel>=2.10 in c:\\users\\jake\\miniconda3\\envs\\pythonforcyber\\lib\\site-packages (from jupyterlab-server~=2.19->jupyterlab->arcgis) (2.11.0)\n",
      "Requirement already satisfied: json5>=0.9.0 in c:\\users\\jake\\miniconda3\\envs\\pythonforcyber\\lib\\site-packages (from jupyterlab-server~=2.19->jupyterlab->arcgis) (0.9.25)\n",
      "Requirement already satisfied: jsonschema>=4.18.0 in c:\\users\\jake\\miniconda3\\envs\\pythonforcyber\\lib\\site-packages (from jupyterlab-server~=2.19->jupyterlab->arcgis) (4.23.0)\n",
      "Requirement already satisfied: notebook-shim>=0.2.3 in c:\\users\\jake\\miniconda3\\envs\\pythonforcyber\\lib\\site-packages (from nbclassic>=0.4.7->notebook->arcgis) (0.2.4)\n",
      "Requirement already satisfied: beautifulsoup4 in c:\\users\\jake\\miniconda3\\envs\\pythonforcyber\\lib\\site-packages (from nbconvert>=5->notebook->arcgis) (4.12.3)\n",
      "Requirement already satisfied: bleach!=5.0.0 in c:\\users\\jake\\miniconda3\\envs\\pythonforcyber\\lib\\site-packages (from nbconvert>=5->notebook->arcgis) (6.1.0)\n",
      "Requirement already satisfied: defusedxml in c:\\users\\jake\\miniconda3\\envs\\pythonforcyber\\lib\\site-packages (from nbconvert>=5->notebook->arcgis) (0.7.1)\n",
      "Requirement already satisfied: jupyterlab-pygments in c:\\users\\jake\\miniconda3\\envs\\pythonforcyber\\lib\\site-packages (from nbconvert>=5->notebook->arcgis) (0.3.0)\n",
      "Requirement already satisfied: mistune<4,>=2.0.3 in c:\\users\\jake\\miniconda3\\envs\\pythonforcyber\\lib\\site-packages (from nbconvert>=5->notebook->arcgis) (3.0.2)\n",
      "Requirement already satisfied: nbclient>=0.5.0 in c:\\users\\jake\\miniconda3\\envs\\pythonforcyber\\lib\\site-packages (from nbconvert>=5->notebook->arcgis) (0.10.0)\n",
      "Requirement already satisfied: pandocfilters>=1.4.1 in c:\\users\\jake\\miniconda3\\envs\\pythonforcyber\\lib\\site-packages (from nbconvert>=5->notebook->arcgis) (1.5.0)\n",
      "Requirement already satisfied: tinycss2 in c:\\users\\jake\\miniconda3\\envs\\pythonforcyber\\lib\\site-packages (from nbconvert>=5->notebook->arcgis) (1.3.0)\n",
      "Requirement already satisfied: fastjsonschema>=2.15 in c:\\users\\jake\\miniconda3\\envs\\pythonforcyber\\lib\\site-packages (from nbformat->notebook->arcgis) (2.20.0)\n",
      "Requirement already satisfied: locket in c:\\users\\jake\\miniconda3\\envs\\pythonforcyber\\lib\\site-packages (from partd>=1.4.0->dask>=2023.3.2->arcgis) (1.0.0)\n",
      "Requirement already satisfied: six>=1.5 in c:\\users\\jake\\miniconda3\\envs\\pythonforcyber\\lib\\site-packages (from python-dateutil>=2.1->jupyter-client<=6.1.12->arcgis) (1.16.0)\n",
      "Requirement already satisfied: argon2-cffi-bindings in c:\\users\\jake\\miniconda3\\envs\\pythonforcyber\\lib\\site-packages (from argon2-cffi->notebook->arcgis) (21.2.0)\n",
      "Requirement already satisfied: debugpy>=1.6.5 in c:\\users\\jake\\miniconda3\\envs\\pythonforcyber\\lib\\site-packages (from ipykernel->notebook->arcgis) (1.8.5)\n",
      "Requirement already satisfied: psutil in c:\\users\\jake\\miniconda3\\envs\\pythonforcyber\\lib\\site-packages (from ipykernel->notebook->arcgis) (6.0.0)\n",
      "Requirement already satisfied: more-itertools in c:\\users\\jake\\miniconda3\\envs\\pythonforcyber\\lib\\site-packages (from jaraco.classes->keyring>=23.3.0->arcgis) (10.5.0)\n",
      "Requirement already satisfied: backports.tarfile in c:\\users\\jake\\miniconda3\\envs\\pythonforcyber\\lib\\site-packages (from jaraco.context->keyring>=23.3.0->arcgis) (1.2.0)\n",
      "Requirement already satisfied: setuptools in c:\\users\\jake\\miniconda3\\envs\\pythonforcyber\\lib\\site-packages (from setuptools-scm->python-certifi-win32->arcgis) (75.1.0)\n",
      "Requirement already satisfied: sniffio>=1.1 in c:\\users\\jake\\miniconda3\\envs\\pythonforcyber\\lib\\site-packages (from anyio<4,>=3.1.0->jupyter-server<3,>=1.16.0->jupyterlab->arcgis) (1.3.1)\n",
      "Requirement already satisfied: webencodings in c:\\users\\jake\\miniconda3\\envs\\pythonforcyber\\lib\\site-packages (from bleach!=5.0.0->nbconvert>=5->notebook->arcgis) (0.5.1)\n",
      "Requirement already satisfied: parso<0.9.0,>=0.8.3 in c:\\users\\jake\\miniconda3\\envs\\pythonforcyber\\lib\\site-packages (from jedi>=0.16->ipython>=4.0.0->ipywidgets<8,>=7->arcgis) (0.8.4)\n",
      "Requirement already satisfied: attrs>=22.2.0 in c:\\users\\jake\\miniconda3\\envs\\pythonforcyber\\lib\\site-packages (from jsonschema>=4.18.0->jupyterlab-server~=2.19->jupyterlab->arcgis) (24.2.0)\n",
      "Requirement already satisfied: jsonschema-specifications>=2023.03.6 in c:\\users\\jake\\miniconda3\\envs\\pythonforcyber\\lib\\site-packages (from jsonschema>=4.18.0->jupyterlab-server~=2.19->jupyterlab->arcgis) (2023.12.1)\n",
      "Requirement already satisfied: referencing>=0.28.4 in c:\\users\\jake\\miniconda3\\envs\\pythonforcyber\\lib\\site-packages (from jsonschema>=4.18.0->jupyterlab-server~=2.19->jupyterlab->arcgis) (0.35.1)\n",
      "Requirement already satisfied: rpds-py>=0.7.1 in c:\\users\\jake\\miniconda3\\envs\\pythonforcyber\\lib\\site-packages (from jsonschema>=4.18.0->jupyterlab-server~=2.19->jupyterlab->arcgis) (0.20.0)\n",
      "Requirement already satisfied: jupyter-events>=0.5.0 in c:\\users\\jake\\miniconda3\\envs\\pythonforcyber\\lib\\site-packages (from jupyter-server-fileid<1,>=0.6.0->jupyter-server-ydoc~=0.8.0->jupyterlab->arcgis) (0.10.0)\n",
      "Requirement already satisfied: wcwidth in c:\\users\\jake\\miniconda3\\envs\\pythonforcyber\\lib\\site-packages (from prompt-toolkit<3.1.0,>=3.0.41->ipython>=4.0.0->ipywidgets<8,>=7->arcgis) (0.2.13)\n",
      "Requirement already satisfied: aiofiles<23,>=22.1.0 in c:\\users\\jake\\miniconda3\\envs\\pythonforcyber\\lib\\site-packages (from ypy-websocket<0.9.0,>=0.8.2->jupyter-server-ydoc~=0.8.0->jupyterlab->arcgis) (22.1.0)\n",
      "Requirement already satisfied: aiosqlite<1,>=0.17.0 in c:\\users\\jake\\miniconda3\\envs\\pythonforcyber\\lib\\site-packages (from ypy-websocket<0.9.0,>=0.8.2->jupyter-server-ydoc~=0.8.0->jupyterlab->arcgis) (0.20.0)\n",
      "Requirement already satisfied: soupsieve>1.2 in c:\\users\\jake\\miniconda3\\envs\\pythonforcyber\\lib\\site-packages (from beautifulsoup4->nbconvert>=5->notebook->arcgis) (2.5)\n",
      "Requirement already satisfied: executing>=1.2.0 in c:\\users\\jake\\miniconda3\\envs\\pythonforcyber\\lib\\site-packages (from stack-data->ipython>=4.0.0->ipywidgets<8,>=7->arcgis) (2.1.0)\n",
      "Requirement already satisfied: asttokens>=2.1.0 in c:\\users\\jake\\miniconda3\\envs\\pythonforcyber\\lib\\site-packages (from stack-data->ipython>=4.0.0->ipywidgets<8,>=7->arcgis) (2.4.1)\n",
      "Requirement already satisfied: pure-eval in c:\\users\\jake\\miniconda3\\envs\\pythonforcyber\\lib\\site-packages (from stack-data->ipython>=4.0.0->ipywidgets<8,>=7->arcgis) (0.2.3)\n",
      "Requirement already satisfied: python-json-logger>=2.0.4 in c:\\users\\jake\\miniconda3\\envs\\pythonforcyber\\lib\\site-packages (from jupyter-events>=0.5.0->jupyter-server-fileid<1,>=0.6.0->jupyter-server-ydoc~=0.8.0->jupyterlab->arcgis) (2.0.7)\n",
      "Requirement already satisfied: rfc3339-validator in c:\\users\\jake\\miniconda3\\envs\\pythonforcyber\\lib\\site-packages (from jupyter-events>=0.5.0->jupyter-server-fileid<1,>=0.6.0->jupyter-server-ydoc~=0.8.0->jupyterlab->arcgis) (0.1.4)\n",
      "Requirement already satisfied: rfc3986-validator>=0.1.1 in c:\\users\\jake\\miniconda3\\envs\\pythonforcyber\\lib\\site-packages (from jupyter-events>=0.5.0->jupyter-server-fileid<1,>=0.6.0->jupyter-server-ydoc~=0.8.0->jupyterlab->arcgis) (0.1.1)\n",
      "Requirement already satisfied: fqdn in c:\\users\\jake\\miniconda3\\envs\\pythonforcyber\\lib\\site-packages (from jsonschema[format-nongpl]>=4.18.0->jupyter-events>=0.5.0->jupyter-server-fileid<1,>=0.6.0->jupyter-server-ydoc~=0.8.0->jupyterlab->arcgis) (1.5.1)\n",
      "Requirement already satisfied: isoduration in c:\\users\\jake\\miniconda3\\envs\\pythonforcyber\\lib\\site-packages (from jsonschema[format-nongpl]>=4.18.0->jupyter-events>=0.5.0->jupyter-server-fileid<1,>=0.6.0->jupyter-server-ydoc~=0.8.0->jupyterlab->arcgis) (20.11.0)\n",
      "Requirement already satisfied: jsonpointer>1.13 in c:\\users\\jake\\miniconda3\\envs\\pythonforcyber\\lib\\site-packages (from jsonschema[format-nongpl]>=4.18.0->jupyter-events>=0.5.0->jupyter-server-fileid<1,>=0.6.0->jupyter-server-ydoc~=0.8.0->jupyterlab->arcgis) (3.0.0)\n",
      "Requirement already satisfied: uri-template in c:\\users\\jake\\miniconda3\\envs\\pythonforcyber\\lib\\site-packages (from jsonschema[format-nongpl]>=4.18.0->jupyter-events>=0.5.0->jupyter-server-fileid<1,>=0.6.0->jupyter-server-ydoc~=0.8.0->jupyterlab->arcgis) (1.3.0)\n",
      "Requirement already satisfied: webcolors>=24.6.0 in c:\\users\\jake\\miniconda3\\envs\\pythonforcyber\\lib\\site-packages (from jsonschema[format-nongpl]>=4.18.0->jupyter-events>=0.5.0->jupyter-server-fileid<1,>=0.6.0->jupyter-server-ydoc~=0.8.0->jupyterlab->arcgis) (24.8.0)\n",
      "Requirement already satisfied: arrow>=0.15.0 in c:\\users\\jake\\miniconda3\\envs\\pythonforcyber\\lib\\site-packages (from isoduration->jsonschema[format-nongpl]>=4.18.0->jupyter-events>=0.5.0->jupyter-server-fileid<1,>=0.6.0->jupyter-server-ydoc~=0.8.0->jupyterlab->arcgis) (1.3.0)\n",
      "Requirement already satisfied: types-python-dateutil>=2.8.10 in c:\\users\\jake\\miniconda3\\envs\\pythonforcyber\\lib\\site-packages (from arrow>=0.15.0->isoduration->jsonschema[format-nongpl]>=4.18.0->jupyter-events>=0.5.0->jupyter-server-fileid<1,>=0.6.0->jupyter-server-ydoc~=0.8.0->jupyterlab->arcgis) (2.9.0.20240906)\n",
      "Note: you may need to restart the kernel to use updated packages.\n"
     ]
    }
   ],
   "source": [
    "pip install arcgis dask-expr"
   ]
  },
  {
   "cell_type": "code",
   "execution_count": 2,
   "id": "5eede8ef",
   "metadata": {},
   "outputs": [],
   "source": [
    "# Establish a connection to your GIS.\n",
    "from arcgis.gis import GIS\n",
    "from IPython.display import display\n",
    "gis = GIS() # anonymous connection to www.arcgis.com"
   ]
  },
  {
   "cell_type": "code",
   "execution_count": 3,
   "id": "7b72de6f",
   "metadata": {},
   "outputs": [],
   "source": [
    "criticalinfra = gis.content.get('3d92487b911f4c3ab8322a8ead078b6e')"
   ]
  },
  {
   "cell_type": "code",
   "execution_count": 4,
   "id": "a7bf3515",
   "metadata": {},
   "outputs": [
    {
     "name": "stdout",
     "output_type": "stream",
     "text": [
      "911 Centers\n",
      "Correctional Facilities\n",
      "EMS Stations \n",
      "Fire Departments\n",
      "Health Departments\n",
      "Higher Education Locations\n",
      "Hospitals\n",
      "Nursing Homes\n",
      "OES Centers\n",
      "Police Departments\n",
      "Primary Care Centers\n",
      "Private Schools\n",
      "Public Libraries\n",
      "Public Schools\n",
      "Counties\n"
     ]
    }
   ],
   "source": [
    "for lyr in criticalinfra.layers:\n",
    "    print(lyr.properties.name)"
   ]
  },
  {
   "cell_type": "code",
   "execution_count": 7,
   "id": "cf147fcb",
   "metadata": {},
   "outputs": [
    {
     "data": {
      "application/vnd.jupyter.widget-view+json": {
       "model_id": "5c77e53906724bae80b4db392d506104",
       "version_major": 2,
       "version_minor": 0
      },
      "text/plain": [
       "MapView(layout=Layout(height='400px', width='100%'))"
      ]
     },
     "metadata": {},
     "output_type": "display_data"
    },
    {
     "data": {
      "text/html": [
       "<div class=\"map-static-img-preview-b8f54c71-aa67-46f5-a776-1b6e3feb48dc\"><img src=\"\"></img></div>"
      ],
      "text/plain": [
       "<IPython.core.display.HTML object>"
      ]
     },
     "metadata": {},
     "output_type": "display_data"
    },
    {
     "data": {
      "text/html": [
       "<div class=\"map-html-embed-preview-b8f54c71-aa67-46f5-a776-1b6e3feb48dc\"></div>"
      ],
      "text/plain": [
       "<IPython.core.display.HTML object>"
      ]
     },
     "metadata": {},
     "output_type": "display_data"
    }
   ],
   "source": []
  }
 ],
 "metadata": {
  "kernelspec": {
   "display_name": "Python [conda env:pythonForCyber] *",
   "language": "python",
   "name": "conda-env-pythonForCyber-py"
  },
  "language_info": {
   "codemirror_mode": {
    "name": "ipython",
    "version": 3
   },
   "file_extension": ".py",
   "mimetype": "text/x-python",
   "name": "python",
   "nbconvert_exporter": "python",
   "pygments_lexer": "ipython3",
   "version": "3.9.19"
  }
 },
 "nbformat": 4,
 "nbformat_minor": 5
}
